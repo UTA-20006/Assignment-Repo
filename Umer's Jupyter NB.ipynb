{
 "cells": [
  {
   "cell_type": "markdown",
   "id": "3c5ebe20-6188-424e-808e-4ab30fa4ced4",
   "metadata": {},
   "source": [
    "# My Jupyter Notebook on IBM Watson Studio"
   ]
  },
  {
   "cell_type": "markdown",
   "id": "7c60ce46-10e4-4508-bb6a-fdfa52098947",
   "metadata": {},
   "source": [
    "## **Umer**, Financial Analyst, Business Analyst"
   ]
  },
  {
   "cell_type": "markdown",
   "id": "28211daf-a5f6-474e-bb2b-c100baa0c9d7",
   "metadata": {},
   "source": [
    "I am interested in Data Science because of the fact that Data Science has become the top subjects to learn and it's smooth working environments and supportive community."
   ]
  },
  {
   "cell_type": "markdown",
   "id": "319fecf8-d7cb-4644-b667-ec04f00f1a76",
   "metadata": {},
   "source": [
    "### My code is supposed to run a simple code that shows the division of two numbers and provides an output after execution."
   ]
  },
  {
   "cell_type": "code",
   "execution_count": 1,
   "id": "63a75ae3-cb94-4195-b983-7fda90ce18b3",
   "metadata": {},
   "outputs": [
    {
     "data": {
      "text/plain": [
       "2.0"
      ]
     },
     "execution_count": 1,
     "metadata": {},
     "output_type": "execute_result"
    }
   ],
   "source": [
    "20/10"
   ]
  },
  {
   "cell_type": "markdown",
   "id": "2941092f-8d26-4e7b-8192-532b6107a3ae",
   "metadata": {},
   "source": [
    "These are three of my favorite games:\n",
    "1. Minecraft\n",
    "2. Rocket League\n",
    "3. Shadow Fight 3"
   ]
  },
  {
   "cell_type": "markdown",
   "id": "98eaf97a-1d34-42f9-a5c6-31bec56a2f86",
   "metadata": {},
   "source": [
    "[![IMAGE ALT TEXT HERE](http://img.youtube.com/vi/0KsJi0UPoH4/0.jpg)](http://www.youtube.com/watch?v=0KsJi0UPoH4)"
   ]
  },
  {
   "cell_type": "markdown",
   "id": "cc638268-9bda-4b6e-9cbd-3d2cdfaf9d15",
   "metadata": {},
   "source": [
    "Greek Hoplite: \n",
    "![Image of one of the most powerful warriors in the past](https://p0.pikist.com/photos/320/536/romans-gladiator-spear-hoplite-greek-soldier-drawing-ancient-greek-contactors.jpg \"Greek Hoplite Soldier\")\n"
   ]
  },
  {
   "cell_type": "code",
   "execution_count": null,
   "id": "d2098908-c483-4bc0-98ca-6f4bbd1d7d0d",
   "metadata": {},
   "outputs": [],
   "source": []
  }
 ],
 "metadata": {
  "kernelspec": {
   "display_name": "Python",
   "language": "python",
   "name": "conda-env-python-py"
  },
  "language_info": {
   "codemirror_mode": {
    "name": "ipython",
    "version": 3
   },
   "file_extension": ".py",
   "mimetype": "text/x-python",
   "name": "python",
   "nbconvert_exporter": "python",
   "pygments_lexer": "ipython3",
   "version": "3.7.12"
  }
 },
 "nbformat": 4,
 "nbformat_minor": 5
}
